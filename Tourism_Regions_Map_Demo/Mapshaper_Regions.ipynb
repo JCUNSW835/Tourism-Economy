{
 "cells": [
  {
   "cell_type": "code",
   "execution_count": 1,
   "id": "b778c9c4",
   "metadata": {},
   "outputs": [
    {
     "name": "stdout",
     "output_type": "stream",
     "text": [
      "Requirement already satisfied: npm in d:\\programdata\\anaconda3\\lib\\site-packages (0.1.1)\n",
      "Requirement already satisfied: optional-django==0.1.0 in d:\\programdata\\anaconda3\\lib\\site-packages (from npm) (0.1.0)\n"
     ]
    }
   ],
   "source": [
    "!pip install npm"
   ]
  },
  {
   "cell_type": "code",
   "execution_count": 2,
   "id": "55c3b3c3",
   "metadata": {},
   "outputs": [
    {
     "name": "stdout",
     "output_type": "stream",
     "text": [
      "\n",
      "changed 65 packages, and audited 66 packages in 10s\n",
      "\n",
      "6 packages are looking for funding\n",
      "  run `npm fund` for details\n",
      "\n",
      "found 0 vulnerabilities\n"
     ]
    }
   ],
   "source": [
    "!npm install -g mapshaper"
   ]
  },
  {
   "cell_type": "code",
   "execution_count": 3,
   "id": "5ba36c5f",
   "metadata": {},
   "outputs": [
    {
     "name": "stderr",
     "output_type": "stream",
     "text": [
      "[simplify] Repaired 16 intersections\n",
      "[o] Wrote TourismRegions-Visualingam-0.02.geojson\n"
     ]
    }
   ],
   "source": [
    "!mapshaper -i TourismRegions.geojson -simplify 2% -o TourismRegions-Visualingam-0.02.geojson"
   ]
  },
  {
   "cell_type": "code",
   "execution_count": null,
   "id": "59e4db02",
   "metadata": {},
   "outputs": [],
   "source": []
  }
 ],
 "metadata": {
  "kernelspec": {
   "display_name": "Python 3",
   "language": "python",
   "name": "python3"
  },
  "language_info": {
   "codemirror_mode": {
    "name": "ipython",
    "version": 3
   },
   "file_extension": ".py",
   "mimetype": "text/x-python",
   "name": "python",
   "nbconvert_exporter": "python",
   "pygments_lexer": "ipython3",
   "version": "3.8.8"
  }
 },
 "nbformat": 4,
 "nbformat_minor": 5
}
