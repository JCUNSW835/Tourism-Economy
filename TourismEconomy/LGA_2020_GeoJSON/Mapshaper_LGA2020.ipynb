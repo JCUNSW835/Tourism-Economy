{
 "cells": [
  {
   "cell_type": "code",
   "execution_count": 1,
   "id": "7bcafafe",
   "metadata": {},
   "outputs": [
    {
     "name": "stdout",
     "output_type": "stream",
     "text": [
      "Requirement already satisfied: npm in d:\\programdata\\anaconda3\\lib\\site-packages (0.1.1)\n",
      "Requirement already satisfied: optional-django==0.1.0 in d:\\programdata\\anaconda3\\lib\\site-packages (from npm) (0.1.0)\n"
     ]
    }
   ],
   "source": [
    "!pip install npm"
   ]
  },
  {
   "cell_type": "code",
   "execution_count": 2,
   "id": "1755c24a",
   "metadata": {},
   "outputs": [
    {
     "name": "stdout",
     "output_type": "stream",
     "text": [
      "\n",
      "changed 65 packages, and audited 66 packages in 6s\n",
      "\n",
      "6 packages are looking for funding\n",
      "  run `npm fund` for details\n",
      "\n",
      "found 0 vulnerabilities\n"
     ]
    }
   ],
   "source": [
    "!npm install -g mapshaper"
   ]
  },
  {
   "cell_type": "code",
   "execution_count": 3,
   "id": "61f902a3",
   "metadata": {},
   "outputs": [
    {
     "name": "stderr",
     "output_type": "stream",
     "text": [
      "[simplify] Repaired 52 intersections\n",
      "[o] Wrote LGA2020-Visualingam-0.02.geojson\n"
     ]
    }
   ],
   "source": [
    "!mapshaper -i LGA_2020.geojson -simplify 2% -o LGA2020-Visualingam-0.02.geojson"
   ]
  },
  {
   "cell_type": "code",
   "execution_count": 4,
   "id": "541df778",
   "metadata": {},
   "outputs": [
    {
     "name": "stdout",
     "output_type": "stream",
     "text": [
      "\n",
      "changed 2 packages, and audited 3 packages in 2s\n",
      "\n",
      "1 moderate severity vulnerability\n",
      "\n",
      "To address all issues (including breaking changes), run:\n",
      "  npm audit fix --force\n",
      "\n",
      "Run `npm audit` for details.\n"
     ]
    }
   ],
   "source": [
    "!npm install -g geojson-minifier"
   ]
  },
  {
   "cell_type": "code",
   "execution_count": 5,
   "id": "d5bc28fc",
   "metadata": {},
   "outputs": [
    {
     "name": "stdout",
     "output_type": "stream",
     "text": [
      "File size before: 154392 kb\n",
      "File size after: 13888 kb\n"
     ]
    }
   ],
   "source": [
    "!geojson-minifier -o pack -f LGA_2020.geojson"
   ]
  },
  {
   "cell_type": "code",
   "execution_count": 6,
   "id": "974ee364",
   "metadata": {},
   "outputs": [
    {
     "name": "stderr",
     "output_type": "stream",
     "text": [
      "[simplify] Repaired 31 intersections\n",
      "[o] Wrote LGA2020-Visualingam-0.1.geojson\n"
     ]
    }
   ],
   "source": [
    "!mapshaper -i LGA_2020.geojson -simplify 10% -o LGA2020-Visualingam-0.1.geojson"
   ]
  },
  {
   "cell_type": "code",
   "execution_count": null,
   "id": "7f5fde38",
   "metadata": {},
   "outputs": [],
   "source": []
  }
 ],
 "metadata": {
  "kernelspec": {
   "display_name": "Python 3",
   "language": "python",
   "name": "python3"
  },
  "language_info": {
   "codemirror_mode": {
    "name": "ipython",
    "version": 3
   },
   "file_extension": ".py",
   "mimetype": "text/x-python",
   "name": "python",
   "nbconvert_exporter": "python",
   "pygments_lexer": "ipython3",
   "version": "3.8.8"
  }
 },
 "nbformat": 4,
 "nbformat_minor": 5
}
